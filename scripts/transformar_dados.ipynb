{
 "cells": [
  {
   "cell_type": "code",
   "execution_count": null,
   "metadata": {},
   "outputs": [
    {
     "name": "stderr",
     "output_type": "stream",
     "text": [
      "/tmp/ipykernel_554781/611318040.py:7: DtypeWarning: Columns (15,53,91,93,122,178) have mixed types. Specify dtype option on import or set low_memory=False.\n",
      "  dados = pd.read_csv(url_csv, delimiter=';')\n"
     ]
    },
    {
     "name": "stdout",
     "output_type": "stream",
     "text": [
      "    SG_UF_NOT ID_MUNICIP  CO_MUN_NOT  ESTRANG CS_SEXO     DT_NASC  NU_IDADE_N  \\\n",
      "9          PE     RECIFE      261160        2       F  25/10/2023           5   \n",
      "36         PE     RECIFE      261160        2       F  12/02/2022           2   \n",
      "71         PE     RECIFE      261160        2       M  14/08/2022           1   \n",
      "102        PE  PETROLINA      261110        2       F  20/07/2014           9   \n",
      "119        PE     RECIFE      261160        2       M  26/04/2021           2   \n",
      "\n",
      "     CS_GESTANT  CS_RACA  FATOR_RISC  VACINA_COV  CLASSI_FIN  EVOLUCAO  \n",
      "9             6        4           2           2           4         1  \n",
      "36            6        1           2           2           2         1  \n",
      "71            6        4           2           1           4         1  \n",
      "102           5        4           2           1           4         1  \n",
      "119           6        4           2           2           2         1  \n",
      "Arquivo CSV gerado: ../data/transformado_INFLUD24-20-01-2025.csv\n"
     ]
    },
    {
     "name": "stderr",
     "output_type": "stream",
     "text": [
      "/tmp/ipykernel_554781/611318040.py:31: SettingWithCopyWarning: \n",
      "A value is trying to be set on a copy of a slice from a DataFrame.\n",
      "Try using .loc[row_indexer,col_indexer] = value instead\n",
      "\n",
      "See the caveats in the documentation: https://pandas.pydata.org/pandas-docs/stable/user_guide/indexing.html#returning-a-view-versus-a-copy\n",
      "  dados_limpos[coluna] = converter_para_inteiro(dados_limpos[coluna])\n"
     ]
    }
   ],
   "source": [
    "import pandas as pd\n",
    "\n",
    "# Caminho do arquivo CSV\n",
    "url_csv = \"https://s3.sa-east-1.amazonaws.com/ckan.saude.gov.br/SRAG/2024/INFLUD24-20-01-2025.csv\"\n",
    "\n",
    "# Carregar o CSV especificando o delimitador correto\n",
    "dados = pd.read_csv(url_csv, delimiter=';')\n",
    "\n",
    "# Definir as colunas desejadas\n",
    "colunas_selecionadas = [\n",
    "    \"SG_UF_NOT\", \"ID_MUNICIP\", \"CO_MUN_NOT\", \"ESTRANG\", \"CS_SEXO\",\n",
    "    \"DT_NASC\", \"NU_IDADE_N\", \"CS_GESTANT\", \"CS_RACA\", \"FATOR_RISC\",\n",
    "    \"VACINA_COV\", \"CLASSI_FIN\", \"EVOLUCAO\"\n",
    "]\n",
    "\n",
    "dados_selecionados = dados[colunas_selecionadas]\n",
    "\n",
    "# Filtrar os dados onde SG_UF_NOT é \"PE\" ou \"26\"\n",
    "dados_pe_ou_26 = dados_selecionados[dados_selecionados[\"SG_UF_NOT\"].isin([\"PE\", \"26\"])]\n",
    "\n",
    "# Excluir as linhas que possuam dados nulos ou vazios\n",
    "dados_limpos = dados_pe_ou_26.dropna()\n",
    "\n",
    "# Função para garantir que uma coluna seja convertida para inteiros\n",
    "def converter_para_inteiro(coluna):\n",
    "    return pd.to_numeric(coluna, errors='coerce', downcast='integer')\n",
    "\n",
    "# Converter as colunas com valores decimais para inteiros\n",
    "colunas_a_converter = [\"ESTRANG\", \"VACINA_COV\", \"CLASSI_FIN\", \"EVOLUCAO\"]\n",
    "for coluna in colunas_a_converter:\n",
    "    dados_limpos[coluna] = converter_para_inteiro(dados_limpos[coluna])\n",
    "\n",
    "# Excluir as linhas onde a conversão não foi possível (resultou em NaN)\n",
    "dados_limpos = dados_limpos.dropna(subset=colunas_a_converter)\n",
    "\n",
    "# Exibir as 5 primeiras linhas\n",
    "dados_exibicao = dados_limpos.head(5)\n",
    "\n",
    "# Exibir as linhas filtradas e limpas\n",
    "print(dados_exibicao)\n",
    "\n",
    "# Gerar o arquivo CSV com os dados limpos (sem limitar às 5 primeiras linhas)\n",
    "caminho_saida = \"../data/transformado_INFLUD24-20-01-2025.csv\"\n",
    "dados_limpos.to_csv(caminho_saida, index=False, sep=';')\n",
    "\n",
    "print(f\"Arquivo CSV gerado: {caminho_saida}\")\n"
   ]
  }
 ],
 "metadata": {
  "kernelspec": {
   "display_name": ".venv",
   "language": "python",
   "name": "python3"
  },
  "language_info": {
   "codemirror_mode": {
    "name": "ipython",
    "version": 3
   },
   "file_extension": ".py",
   "mimetype": "text/x-python",
   "name": "python",
   "nbconvert_exporter": "python",
   "pygments_lexer": "ipython3",
   "version": "3.12.3"
  }
 },
 "nbformat": 4,
 "nbformat_minor": 2
}
