{
 "cells": [
  {
   "cell_type": "code",
   "execution_count": 22,
   "metadata": {},
   "outputs": [
    {
     "name": "stderr",
     "output_type": "stream",
     "text": [
      "/tmp/ipykernel_554781/1805261678.py:7: DtypeWarning: Columns (15,53,91,93,122,178) have mixed types. Specify dtype option on import or set low_memory=False.\n",
      "  dados = pd.read_csv(caminho_csv, delimiter=';')\n"
     ]
    },
    {
     "name": "stdout",
     "output_type": "stream",
     "text": [
      "    SG_UF_NOT ID_MUNICIP  CO_MUN_NOT  ESTRANG CS_SEXO     DT_NASC  NU_IDADE_N  \\\n",
      "9          PE     RECIFE      261160      2.0       F  25/10/2023           5   \n",
      "36         PE     RECIFE      261160      2.0       F  12/02/2022           2   \n",
      "71         PE     RECIFE      261160      2.0       M  14/08/2022           1   \n",
      "102        PE  PETROLINA      261110      2.0       F  20/07/2014           9   \n",
      "119        PE     RECIFE      261160      2.0       M  26/04/2021           2   \n",
      "\n",
      "     CS_GESTANT  CS_RACA  FATOR_RISC  VACINA_COV  CLASSI_FIN  EVOLUCAO  \n",
      "9             6        4           2         2.0         4.0       1.0  \n",
      "36            6        1           2         2.0         2.0       1.0  \n",
      "71            6        4           2         1.0         4.0       1.0  \n",
      "102           5        4           2         1.0         4.0       1.0  \n",
      "119           6        4           2         2.0         2.0       1.0  \n",
      "Arquivo CSV gerado: ../data/transformado_INFLUD24-20-01-2025.csv\n"
     ]
    }
   ],
   "source": [
    "import pandas as pd\n",
    "\n",
    "# Caminho do arquivo CSV\n",
    "caminho_csv = \"../data/INFLUD24-20-01-2025.csv\"\n",
    "\n",
    "# Carregar o CSV especificando o delimitador correto\n",
    "dados = pd.read_csv(caminho_csv, delimiter=';')\n",
    "\n",
    "# Definir as colunas desejadas\n",
    "colunas_selecionadas = [\n",
    "    \"SG_UF_NOT\", \"ID_MUNICIP\", \"CO_MUN_NOT\", \"ESTRANG\", \"CS_SEXO\",\n",
    "    \"DT_NASC\", \"NU_IDADE_N\", \"CS_GESTANT\", \"CS_RACA\", \"FATOR_RISC\",\n",
    "    \"VACINA_COV\", \"CLASSI_FIN\", \"EVOLUCAO\"\n",
    "]\n",
    "\n",
    "dados_selecionados = dados[colunas_selecionadas]\n",
    "\n",
    "# Filtrar os dados onde SG_UF_NOT é \"PE\" ou \"26\"\n",
    "dados_pe_ou_26 = dados_selecionados[dados_selecionados[\"SG_UF_NOT\"].isin([\"PE\", \"26\"])]\n",
    "\n",
    "# Excluir as linhas que possuam dados nulos ou vazios\n",
    "dados_limpos = dados_pe_ou_26.dropna()\n",
    "\n",
    "# Exibir as 5 primeiras linhas\n",
    "dados_exibicao = dados_limpos.head(5)\n",
    "\n",
    "# Exibir as linhas filtradas e limpas\n",
    "print(dados_exibicao)\n",
    "\n",
    "# Gerar o arquivo CSV com os dados limpos (sem limitar às 5 primeiras linhas)\n",
    "caminho_saida = \"../data/transformado_INFLUD24-20-01-2025.csv\"\n",
    "dados_limpos.to_csv(caminho_saida, index=False, sep=';')\n",
    "\n",
    "print(f\"Arquivo CSV gerado: {caminho_saida}\")\n",
    "\n",
    "\n",
    "#####################################################\n",
    "#26 \tPernambuco \tPE  codigo ibge\n",
    "\n",
    "# Selecionar e exibir as 3 primeiras linhas\n",
    "#print(dados[colunas_selecionadas].head(3))\n",
    "\n",
    "# #mostrar todos os headers\n",
    "# df = pd.read_csv(caminho_csv, on_bad_lines='skip')\n",
    "# headers = pd.read_csv(caminho_csv, nrows=0).columns.tolist()\n",
    "# print(headers)"
   ]
  }
 ],
 "metadata": {
  "kernelspec": {
   "display_name": ".venv",
   "language": "python",
   "name": "python3"
  },
  "language_info": {
   "codemirror_mode": {
    "name": "ipython",
    "version": 3
   },
   "file_extension": ".py",
   "mimetype": "text/x-python",
   "name": "python",
   "nbconvert_exporter": "python",
   "pygments_lexer": "ipython3",
   "version": "3.12.3"
  }
 },
 "nbformat": 4,
 "nbformat_minor": 2
}
